{
 "cells": [
  {
   "cell_type": "code",
   "execution_count": 1,
   "id": "71c434a1",
   "metadata": {},
   "outputs": [],
   "source": [
    "import warnings\n",
    "warnings.filterwarnings('ignore')"
   ]
  },
  {
   "cell_type": "code",
   "execution_count": 2,
   "id": "53af32d0",
   "metadata": {},
   "outputs": [],
   "source": [
    "# Import required libraries\n",
    "import numpy as np\n",
    "import matplotlib.pyplot as plt\n",
    "import segyio\n",
    "import itertools\n",
    "import scipy.ndimage\n",
    "import pandas as pd\n",
    "from mayavi import mlab"
   ]
  },
  {
   "cell_type": "markdown",
   "id": "f755976f",
   "metadata": {},
   "source": [
    "## Practical 3 - Visualising stacked (fully processed) 3D seismic reflection data\n"
   ]
  },
  {
   "cell_type": "markdown",
   "id": "5652eab7",
   "metadata": {},
   "source": [
    "In this exercise you will learn how to load fully processed 3D seismic reflection data in SEGY format and view it with Python. Traditionally, geologists and geophysicists have used proprietary software to do this. This software is very expensive, a bit of a black box and takes time to learn how to operate. In the next 3 hours you will be able to view and analyse seismic data without the need for such software by working through Practical 3 and 4.  \n",
    "\n",
    "At the end of the exercise there is an extension activity to load some SEGY data that are partially incomplete. You will NOT be asked to do this in an assessment, but if you download your own SEGY data you may have to apply these steps to get it loaded correctly (so this practical may be useful if you work with SEGY data for your independent project). \n",
    "\n",
    "**If you have time see [Bonus](./Ex3_Bonus.ipynb) excercise.**\n",
    "\n",
    "**Learning objectives**:\n",
    "1) understand how fully processed seismic data is stored and how to access this within python\n",
    "2) Understand the important headers for plotting data\n",
    "3) Learn how to plot data in different ways (wiggle traces, variable density, colour scales, etc.)"
   ]
  },
  {
   "cell_type": "markdown",
   "id": "39bd26fa",
   "metadata": {},
   "source": [
    "## 3.1 - Using SEGY data volumes\n",
    "\n",
    "In this section you are provided with a perfect data cube, this means that the dataset has no missing points and it is structured in such a way that the segyio library can deal with reading in this file without the user requiring to adjust the dataset. In this activity we are using [\"segyio\"](https://segyio.readthedocs.io/en/latest/) to read the data into a numpy array, however, there are other tools available to do this. \n",
    "\n",
    "We are going to start with dataset TNW_small2. This is a sub-cube from a larger 3D data volume. As we discussed in at the end of lecture 6 it is from offshore the Netherlands and is located in a region of planned wind farm activities. The dataset has been collected with a sparker source and has been post-stack depth migrated. It images from 47.05 m below the seabed to 92.05 m. \n"
   ]
  },
  {
   "cell_type": "code",
   "execution_count": 3,
   "id": "d9ddb1d0",
   "metadata": {},
   "outputs": [
    {
     "name": "stdout",
     "output_type": "stream",
     "text": [
      "C 1 SEGY OUTPUT FROM Petrel 2017.1 Thursday, November 18 2021 12:55:27\n",
      "C 2 Name: TNW_3DUHRSsubset_ImperialCollege20211104 Crop 1 Type: 3D seismic    C\n",
      "3                                                                             C\n",
      "4 First inline: 2000   Last inline: 2571                                      C\n",
      "5 First xline:  1316   Last xline:  1839                                      C\n",
      "6 CRS: Undefined                                                              C\n",
      "7 X min: 676054.47 max: 676326.12 delta: 271.65                               C\n",
      "8 Y min: 5987532.19 max: 5987827.05 delta: 294.86                             C\n",
      "9 Time min: -92.05 max: -47.05 delta: 45.00\n",
      "C10 Lat min: - max: - delta: -\n",
      "C11 Long min: - max: - delta: -\n",
      "C12 Trace min: -92.00 max: -47.10 delta: 44.90\n",
      "C13 Seismic (template) min: ~-39.39 max: ~66.61 delta: ~106.01\n",
      "C14 Amplitude (data) min: ~-39.39 max: ~66.61 delta: ~106.01\n",
      "C15 Trace sample format: IEEE floating point\n",
      "C16 Coordinate scale factor: 100.00000\n",
      "C17\n",
      "C18 Binary header locations:\n",
      "C19 Sample interval             : bytes 17-18\n",
      "C20 Number of samples per trace : bytes 21-22\n",
      "C21 Trace date format           : bytes 25-26\n",
      "C22\n",
      "C23 Trace header locations:\n",
      "C24 Inline number               : bytes 5-8\n",
      "C25 Xline number                : bytes 21-24\n",
      "C26 Coordinate scale factor     : bytes 71-72\n",
      "C27 X coordinate                : bytes 73-76\n",
      "C28 Y coordinate                : bytes 77-80\n",
      "C29 Trace start time/depth      : bytes 109-110\n",
      "C30 Number of samples per trace : bytes 115-116\n",
      "C31 Sample interval             : bytes 117-118\n",
      "C32\n",
      "C33\n",
      "C34\n",
      "C35\n",
      "C36\n",
      "C37\n",
      "C38\n",
      "C39\n",
      "C40 END EBCDIC\n"
     ]
    }
   ],
   "source": [
    "base_segy = segyio.open('data/TNW_small2', ignore_geometry= False) \n",
    "print (segyio.tools.wrap(base_segy.text[0]))"
   ]
  },
  {
   "cell_type": "markdown",
   "id": "0398eb94",
   "metadata": {},
   "source": [
    "**Exercise 1: Have a careful read  through the EBCDIC header and try to recognise some of the terms we have learned about in the lecture. How many inlines are there? Can you identify in the EBCDIC where the depth range is given (does anything surprise you about this)?**"
   ]
  },
  {
   "cell_type": "code",
   "execution_count": 4,
   "id": "ef7593ac",
   "metadata": {},
   "outputs": [],
   "source": [
    "depth = base_segy.samples \n",
    "inlines = base_segy.ilines \n",
    "xlines = base_segy.xlines\n",
    "data = segyio.tools.cube(base_segy)"
   ]
  },
  {
   "cell_type": "code",
   "execution_count": 5,
   "id": "e29f10d6",
   "metadata": {},
   "outputs": [
    {
     "name": "stdout",
     "output_type": "stream",
     "text": [
      "572\n",
      "524\n",
      "450\n",
      "(572, 524, 450)\n"
     ]
    }
   ],
   "source": [
    "print (inlines.size) # inline numbers\n",
    "print (xlines.size) # xline numbers\n",
    "print (depth.size) # time/depth samples\n",
    "print (data.shape) # data in 3d array"
   ]
  },
  {
   "cell_type": "markdown",
   "id": "2dec41b1",
   "metadata": {},
   "source": [
    "<details>\n",
    "    <summary>💡 Answer</summary>\n",
    "There are 572 inlines and 524 xlines. The depth range is labelled as\n",
    "Time min: -92.05 max: -47.05  \n",
    "for some reason. We think this might be a mistake when the EBCDIC was written as this should be depth rather than time. There are 450 vertical samples.\n",
    "\n",
    "Note: The data cube indexing first position is 0,0,0 which in this case equates to inline 2000.  "
   ]
  },
  {
   "cell_type": "markdown",
   "id": "62567b06",
   "metadata": {},
   "source": [
    "If the SEGY data is rectangular, perfectly structured and is not missing any data we can directly extract the below attributes from the dataset without any further work. You can see an example of a non-perfectly structured dataset in the extension exercise if you wish (ST020.segy) and how we recover this information in this case. In an assessment you will be given a perfectly structured cube- however, if you download your own data from a repository online you may encounter some imperfect data!"
   ]
  },
  {
   "cell_type": "markdown",
   "id": "abadfe1f",
   "metadata": {},
   "source": [
    "## 3.2 - visualising 3D seismic data volumes \n",
    "In this section we will focus on visualising a perfect 3D seismic reflection data volume. You will learn how to view inlines, xlines and time-slices and how to change the colours to help you visualise geological features.\n"
   ]
  },
  {
   "cell_type": "markdown",
   "id": "e33fd8a0",
   "metadata": {},
   "source": [
    "### 3.2.1 3D visualisation\n",
    "The python library [`mayavi`]((https://towardsdatascience.com/visualizing-3d-seismic-volumes-made-easy-with-python-and-mayavi-e0ca3fd61e43)) is a great and efficient 3D visualisation tool that we will be using to visualise our seismic data volumes."
   ]
  },
  {
   "cell_type": "code",
   "execution_count": 6,
   "id": "bebc66aa",
   "metadata": {},
   "outputs": [],
   "source": [
    "def explore3d(data_cube, preset = True, I=-1, X = -1 , Z=-1):\n",
    "    \"\"\"\n",
    "    \n",
    "    \"\"\"\n",
    "    source = mlab.pipeline.scalar_field(data_cube)\n",
    "    source.spacing = [1, 1, -1]\n",
    "    vm = np.percentile(data_cube, 95) #may need to play a little with the 95\n",
    "    \n",
    "    if preset == True:\n",
    "        nx, ny, nz = data_cube.shape\n",
    "        I = nx//2\n",
    "        X = ny//2\n",
    "        Z = nz//2\n",
    "\n",
    "    mlab.pipeline.image_plane_widget(source, plane_orientation='x_axes', \n",
    "                                     slice_index=I, colormap='coolwarm', vmin=-vm, vmax=vm)\n",
    "    mlab.pipeline.image_plane_widget(source, plane_orientation='y_axes', \n",
    "                                     slice_index=X, colormap='coolwarm', vmin=-vm, vmax=vm)\n",
    "    mlab.pipeline.image_plane_widget(source, plane_orientation='z_axes', \n",
    "                                     slice_index=Z, colormap='coolwarm', vmin=-vm, vmax=vm)\n",
    "    mlab.show()"
   ]
  },
  {
   "cell_type": "code",
   "execution_count": 8,
   "id": "56c0baab",
   "metadata": {},
   "outputs": [
    {
     "name": "stderr",
     "output_type": "stream",
     "text": [
      "D3D12: Removing Device.\n"
     ]
    }
   ],
   "source": [
    "# geological features of interest at these locations\n",
    "I = np.where(inlines == 2285)[0][0]\n",
    "X = np.where (xlines == 1578)[0][0]\n",
    "Z = np.where (depth == 60)[0][0]\n",
    "explore3d(data, preset = False, I = I, X = X, Z = Z)"
   ]
  },
  {
   "cell_type": "markdown",
   "id": "035e4581",
   "metadata": {},
   "source": [
    "### 3.2.2 dynamic range\n",
    "\n",
    "**Exercise 2: Try to visualize your data for inline = 2200** \n",
    "\n",
    "Hint: you need to define a boundary in which the x would be your crossline (`xlines[0]`, `xlines[-1]`) and the y would be the depth (`depth[0]`, `depth[-1]`)**\n",
    "\n",
    "Reminder: `np.where` would help you to find the inline index"
   ]
  },
  {
   "cell_type": "markdown",
   "id": "e057467d",
   "metadata": {},
   "source": [
    "**dynamic range**  -> the range of total difference between the lightest light and darkest dark of an image\n",
    "\n",
    "In our plots above we are limited by an 8-bit image representation, we can visualise 256 shades. For this to work our wide spread of amplitudes needs to be compressed into these 256 shades. However having large outliers will jeperdise having a good dynamic range. To solve this we can clip outliers so we can use our available dynamic range better. "
   ]
  },
  {
   "cell_type": "markdown",
   "id": "255bc4ed",
   "metadata": {},
   "source": [
    "## 3.2.3 plot inlines/crosslines/timeslices\n",
    "\n",
    "**Exercise 3: Try to visualize your data for xline = 1600 and depth = 70** \n",
    "\n",
    "Hint: make sure you have a good dynamic range. Further play with other colormaps. This time let's try `cmap = seismic`\n",
    "\n"
   ]
  },
  {
   "cell_type": "markdown",
   "id": "ab1bcb3c",
   "metadata": {},
   "source": [
    "\n",
    "**Exercise 4: Explore the other rest of the dataset for yourself in 3D. Can you find any examples of the following geological features? If you can, give the inline/xlines numbers or depth and provide an image:**\n",
    "\n",
    "- Glacial Channel\n",
    "- possible river channel\n",
    "- mass transport deposit\n",
    "- faults?"
   ]
  }
 ],
 "metadata": {
  "kernelspec": {
   "display_name": "Python 3 (ipykernel)",
   "language": "python",
   "name": "python3"
  },
  "language_info": {
   "codemirror_mode": {
    "name": "ipython",
    "version": 3
   },
   "file_extension": ".py",
   "mimetype": "text/x-python",
   "name": "python",
   "nbconvert_exporter": "python",
   "pygments_lexer": "ipython3",
   "version": "3.9.13"
  }
 },
 "nbformat": 4,
 "nbformat_minor": 5
}
