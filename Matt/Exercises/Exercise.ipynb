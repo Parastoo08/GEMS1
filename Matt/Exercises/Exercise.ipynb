{
 "cells": [
  {
   "cell_type": "markdown",
   "id": "0e59375c",
   "metadata": {},
   "source": [
    "# Excercise: Introduction to Rock Properties\n"
   ]
  },
  {
   "cell_type": "markdown",
   "id": "e9752fdd",
   "metadata": {},
   "source": [
    "These exercises are mix of questions requiring (i) factual knowledge, (ii) the application of concepts or equations outlined in the notes, and (iii) some thought about the reservoir implications of these concepts.  In some cases, new concepts will be introduced to supplement the lecture material.  The questions requiring factual knowledge are designed to encourage (indeed, require) reading and interrogation of the notes for the information requested.  "
   ]
  },
  {
   "cell_type": "markdown",
   "id": "aca435de",
   "metadata": {},
   "source": [
    "### Question 1.1\n",
    "#### 1.1.1 Outline the porosity systems that may be present in a reservoir rock.\n",
    "\n"
   ]
  },
  {
   "cell_type": "markdown",
   "id": "03a2b0e4",
   "metadata": {},
   "source": [
    "#### 1.1.2\tWhich porosity system typically hosts the majority of fluids in a reservoir?"
   ]
  },
  {
   "cell_type": "markdown",
   "id": "60b5dd26",
   "metadata": {},
   "source": [
    "### Question 1.2\n",
    "#### 1.2.1\tWhat is an REV?\n"
   ]
  },
  {
   "cell_type": "markdown",
   "id": "3ad381d3",
   "metadata": {},
   "source": [
    "#### 1.2.2\tWhy is it required to apply the so-called continuum approach to describe flow in porous media?"
   ]
  },
  {
   "cell_type": "markdown",
   "id": "4abcb11a",
   "metadata": {},
   "source": [
    "#### 1.2.3\tSketch (label the axis but no dimensions are required) a typical plot of porosity versus sample volume for a sandstone. Label and explain the main features.  Do you think the same plot would apply to a vuggy carbonate?"
   ]
  },
  {
   "cell_type": "markdown",
   "id": "ae9880c1",
   "metadata": {},
   "source": [
    "### Question 1.3\n",
    "#### 1.3.1\tBriefly review the principal methods to measure porosity.\n"
   ]
  },
  {
   "cell_type": "markdown",
   "id": "33a513aa",
   "metadata": {},
   "source": [
    "#### 1.3.2\tWould you expect porosity estimates using grain volumes measured by the ‘absolute porosity method’ to be higher or lower than those obtained using direct measurements of pore volume?  Explain your answer."
   ]
  },
  {
   "cell_type": "markdown",
   "id": "77c89d6d",
   "metadata": {},
   "source": [
    "### Question 1.4\n",
    "Briefly review the principal methods to measure permeability.  \n"
   ]
  },
  {
   "cell_type": "markdown",
   "id": "9f76252d",
   "metadata": {},
   "source": [
    "### Question 1.5\n",
    "In a laboratory experiment to measure absolute permeability, a pressure drop of 23.6psi is imposed across a cylindrical core plug that has length 8cm, radius 2cm, and porosity of 0.18, such that water of viscosity 1 cp flows through the core at a measured rate of 0.505 cc sec-1.  \n"
   ]
  },
  {
   "cell_type": "markdown",
   "id": "18144e0e",
   "metadata": {},
   "source": [
    "#### 1.5.1\tWhat is the permeability of the core?\n",
    "#### 1.5.2 What is the Darcy velocity of the flowing water?\n",
    "#### 1.5.3 What is the intrinsic velocity of the flowing water?\n"
   ]
  },
  {
   "cell_type": "markdown",
   "id": "d568eb34",
   "metadata": {},
   "source": [
    "#### 1.5.4 \tAre the flow rates in this experiment consistent with this reservoir flow rate?  If they are different, do you think this might be problem?"
   ]
  },
  {
   "cell_type": "markdown",
   "id": "70e62364",
   "metadata": {},
   "source": [
    "### Question 1.6\n",
    "Assume that the rock sample in Q.1.5 can be represented by the simple bundle of capillary tubes model presented in notes.\n",
    "#### 1.6.1\tEstimate the mean pore radius R using your calculated permeability from question 1.5."
   ]
  },
  {
   "cell_type": "markdown",
   "id": "249a970d",
   "metadata": {},
   "source": [
    "#### 1.6.2\tThe importance of the inertia term in the Forcheimer equation (1.2.12) can be estimated using the Reynolds number. If Re << 1 then inertial terms are negligible.  What is the value of  Re in the experiment described in Q1.5?  Is Darcy’s Law valid to calculate the permeability?  Use a reasonable estimated value of water density."
   ]
  },
  {
   "cell_type": "markdown",
   "id": "2e2c152d",
   "metadata": {},
   "source": [
    "### Question 1.7\n",
    "A cylindrical sandstone plug of radius 1.5cm and length 7cm is placed in a gas permeameter and the following data are recordedin an Excel spreadsheet with the same name.  The flow rate is measured at the outlet pressure.\n"
   ]
  },
  {
   "cell_type": "markdown",
   "id": "34c41b56",
   "metadata": {},
   "source": [
    "#### 1.7.1\tUse these data to determine the permeability to gas of the plug, given that the gas viscosity is 0.018 cp.  Report your answer in mD.\n",
    "\n",
    "<details>\n",
    "<summary>💡 Hints</summary>\n",
    "Hint: use the form of Darcy’s Law appropriate to calculate the permeability to gas for each different inlet pressure setting.  If these values are not constant, gas slippage is probably a problem.  Using the Klinkenberg correction, determine the equivalent liquid permeability.  You will need to plot a graph to do this. "
   ]
  },
  {
   "cell_type": "markdown",
   "id": "03d25968",
   "metadata": {},
   "source": [
    "#### 1.7.2\tUse these data to calculate the permeability of the plug to brine.  Report your answer in mD.\n",
    "The same plug is now placed in a Hassler cell and the following data are obtained for the flow of fresh (low salinity) brine through the plug.  \n",
    "- Inlet pressure: \t\t33psi\n",
    "- Outlet pressure: \t14.7psi\n",
    "- Flow rate:\t\t0.56cc/sec\n"
   ]
  },
  {
   "cell_type": "markdown",
   "id": "9e589463",
   "metadata": {},
   "source": [
    "#### 1.7.3\tIs the brine permeability of the plug the same as the equivalent liquid permeability obtained in the gas measurement?  If not, can you think of a reason why not (or find one in notes?).  The plug is from a fluvial sandstone interval with relatively poor sorting, and thin section analysis suggests c. 8% clay mineral content."
   ]
  },
  {
   "cell_type": "markdown",
   "id": "1eaa361b",
   "metadata": {},
   "source": [
    "### Question 1.8\n",
    "Measurements of permeability are strongly scale dependent.  For each of these permeability measurement types, estimate or calculate the sample volume.  Rank the measurements from smallest to largest:\n",
    "\n",
    "1.\tPlug measurement using a Hassler cell\n",
    "2.\tMinipermeameter\n",
    "3.\tWhole core measurement\n",
    "4.\tWell test.  A well test (or pressure transient test) involves perturbing the flow rate from a well in the reservoir (typically, production or injection is stopped: the well is ‘shut-in’) and measuring the resulting change in reservoir pressure at the well.  The time dependence of the pressure change (in a production well, it gradually builds up, whereas in an injection well, it gradually decreases, returning to the ambient reservoir pressure or ‘shut-in’ pressure) can be interpreted to yield reservoir properties such as permeability over the volume of rock sampled by the test (i.e. the volume of rock that experiences the induced pressure change: typically a few 10’s or 100’s m laterally, and 10’s vertically).  \n",
    "\n",
    "Comment on the range of volumes sampled by each method (make some basic estimates of the volume sampled based on data from notes and provided here).  How do you think these different measurements could be integrated?  Or do you think this is not possible?\n"
   ]
  },
  {
   "cell_type": "markdown",
   "id": "fcd4ad2d",
   "metadata": {},
   "source": [
    "### Question 2.1\n",
    "In a laboratory experiment to measure electrical conductivity, a cylindrical core plug of length 8cm, radius 2cm, and porosity of 0.18, is found to have a measured resistance of 8.28 k.  The core is saturated with brine of conductivity 4 mS/cm.\n",
    "\n"
   ]
  },
  {
   "cell_type": "markdown",
   "id": "1ae9d356",
   "metadata": {},
   "source": [
    "#### 2.1.1\tWhat is the electrical conductivity of the saturated core?\n",
    "#### 2.1.2 \tWhat is the formation factor for this core?\n",
    "#### 2.1.3 \tAssuming a = 1, what is the value of Archie’s exponent m for this core?"
   ]
  },
  {
   "cell_type": "markdown",
   "id": "67bd8a78",
   "metadata": {},
   "source": [
    "### Question 2.2\n",
    "#### 2.2.1.\tSheet .2.1.1 shows electrical conductivity data measured on 9 plugs over a given interval within the reservoir.  Use these data to estimate values of m and a in Archie’s Law.  The brine used to obtain the measurements had a conductivity of 2.8 mS/cm.  \n"
   ]
  },
  {
   "cell_type": "markdown",
   "id": "767ac6a3",
   "metadata": {},
   "source": [
    "#### 2.2.2 How does your estimate of m change if you force a = 1 ?"
   ]
  },
  {
   "cell_type": "markdown",
   "id": "3e951c69",
   "metadata": {},
   "source": [
    "### Question 2.3\n",
    "Sheet E.2.3.1 shows the electrical conductivity as a function of saturation during primary drainage measured on plug no. 2.  Use these data to estimate a value of n in Archie’s Law. \n",
    "\n"
   ]
  },
  {
   "cell_type": "markdown",
   "id": "bede9840",
   "metadata": {},
   "source": [
    "### Question 3.1\n",
    "How much heat must be supplied to a block of sandstone of 1 m3 to change its temperature by 10C?  The specific heat capacity of the sandstone is 1,200 J C-1 kg-1.  The density of the sandstone is 2650 kg m-3.\n"
   ]
  },
  {
   "cell_type": "markdown",
   "id": "c86d42a1",
   "metadata": {},
   "source": [
    "### Question 3.2\n",
    "#### 3.2.1\tWrite down the equation for the steady heat flux qh through a layer of rock of thickness x with thermal conductivity k and fixed temperatures T1 at its base and T2 at its top. What is the name of the law this equation describes?\n"
   ]
  },
  {
   "cell_type": "markdown",
   "id": "3d298e14",
   "metadata": {},
   "source": [
    "#### 3.2.2\tWe can re-arrange this equation to calculate the temperature at a depth x if T2 is the surface temperature, T1 is the temperature at depth, and we know the heat flux from the surface qh.  If the average surface temperature is 10C, the average heat flux is 70 mW m-2, and the thermal conductivity of the rock is 2.8 W m-1 K-1, what is the temperature of the rock at a depth of 300 m?"
   ]
  },
  {
   "cell_type": "markdown",
   "id": "1a402df0",
   "metadata": {},
   "source": [
    "### Question 3.3\n",
    "Estimate the upper and lower bounds of thermal conductivity for a water saturated, quartz dominated sandstone with a porosity of 0.22, using the arithmetic and harmonic means, and the Hashim-Shtrikman bounds.  What is the spread?\n",
    "\n",
    "Water thermal conductivity = 0.58 W/m/K\n",
    "Quartz thermal conductivity = 8 W/m/K\n",
    "\n",
    "The same sandstone is measured in a ‘divided bar apparatus’ and the thermal conductivity is 3.7 W/m/K.  How do your estimates compare with the measured value?\n"
   ]
  },
  {
   "cell_type": "markdown",
   "id": "805af118",
   "metadata": {},
   "source": [
    "### Question 3.4\n",
    "#### 3.4.1\tCalculate the specific heat capacity of the same water-saturated sandstone in question 3.3.  \n"
   ]
  },
  {
   "cell_type": "markdown",
   "id": "f9d0a23b",
   "metadata": {},
   "source": [
    "#### 3.4.2\tIn each m3 of the sandstone, which phase stores the most heat: the solid or the water?"
   ]
  },
  {
   "cell_type": "markdown",
   "id": "412eb6d4",
   "metadata": {},
   "source": [
    "### Question 3.5\n",
    "\n",
    "Imperial College’s central South Kensington Campus has an area of approximately 250m by 400m.  Calculate the total thermal energy that could be stored if the temperature of the rock below the site was increased by 5ºC.  Calculate the thermal energy stored for different scenarios of rock layer thickness, assuming the rock layer is 2m, 5m, 10m and 20m thick.  Assume the rock has the same specific heat capacity that you calculated in Q3.4.  Report your answer in GWh, where 1 GWh = 3.6x1012 J.\n",
    "\n",
    "For comparison, the current world’s largest battery storage facility has a capacity of 1.6 GWh \n",
    "\n",
    "Power and storage capacity are typically expressed as Watts and Watt-hours respectively, where a Watt-hour is the energy stored or converted by a power of 1W operating for 1 hour.  1 MWh = 1x106 Wh and 1 GWh = 1x109 Wh.  \n"
   ]
  },
  {
   "cell_type": "code",
   "execution_count": null,
   "id": "96e36026",
   "metadata": {},
   "outputs": [],
   "source": []
  }
 ],
 "metadata": {
  "kernelspec": {
   "display_name": "Python 3 (ipykernel)",
   "language": "python",
   "name": "python3"
  },
  "language_info": {
   "codemirror_mode": {
    "name": "ipython",
    "version": 3
   },
   "file_extension": ".py",
   "mimetype": "text/x-python",
   "name": "python",
   "nbconvert_exporter": "python",
   "pygments_lexer": "ipython3",
   "version": "3.9.13"
  }
 },
 "nbformat": 4,
 "nbformat_minor": 5
}
