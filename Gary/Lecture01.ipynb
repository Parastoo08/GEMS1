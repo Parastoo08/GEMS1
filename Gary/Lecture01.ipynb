{
 "cells": [
  {
   "cell_type": "code",
   "execution_count": 2,
   "id": "71c434a1",
   "metadata": {
    "slideshow": {
     "slide_type": "slide"
    }
   },
   "outputs": [],
   "source": [
    "import warnings\n",
    "warnings.filterwarnings('ignore')"
   ]
  },
  {
   "cell_type": "markdown",
   "id": "4aeeba89",
   "metadata": {
    "slideshow": {
     "slide_type": "slide"
    }
   },
   "source": [
    "#  <center> Stratigraphy and Structural Geology"
   ]
  },
  {
   "cell_type": "markdown",
   "id": "7d47f1c5",
   "metadata": {
    "slideshow": {
     "slide_type": "slide"
    }
   },
   "source": [
    "# Who are we?\n",
    "\n",
    "[Prof. Gary Hampson](https://www.imperial.ac.uk/people/g.j.hampson) (module coordinator)\n",
    "\n",
    "- PhD in Sedimentology and Sequence Stratigraphy\n"
   ]
  },
  {
   "cell_type": "markdown",
   "id": "f3044b28",
   "metadata": {
    "slideshow": {
     "slide_type": "slide"
    }
   },
   "source": [
    "## The “rock cycle” and plate tectonics\n",
    "\n",
    "<img src=\"data/1.jpg\" width=1000 height=1000 />\n",
    " "
   ]
  },
  {
   "cell_type": "markdown",
   "id": "fa0119b3",
   "metadata": {
    "slideshow": {
     "slide_type": "fragment"
    }
   },
   "source": [
    "## Stratigraphy\n",
    "\n",
    "- studying the layers of rock (strata) and their layering (stratification)\n",
    "\n",
    "- Lithostratigraphy\n",
    "     - physical contrasts in rock type, vertically and laterally\n",
    "     - understanding changes in deposition with time\n",
    "     - chemostratigraphy & cyclostratigraphy​\n",
    "\n",
    "- Biostratigraphy\n",
    "     - changes in fossils with time\n",
    "     - geological time framework – “dating” \n",
    "     - radiometric dating & magnetostratigraphy\n",
    "\n",
    "- Sequence stratigraphy\n",
    "     - how changes in sea level (and other controls) influence the deposition of rocks with time"
   ]
  },
  {
   "cell_type": "markdown",
   "id": "dd7736b9",
   "metadata": {
    "slideshow": {
     "slide_type": "slide"
    }
   },
   "source": [
    "\n",
    "## Law of Superposition\n",
    "- in an undeformed sequence, sedimentary successions are deposited in a sequence that youngs upwards\n",
    "     - i.e. the older rocks are at the base\n",
    "- proposed by Nicholas Steno (1669)\n",
    "<table><tr>\n",
    "<td> <img src=\"data/2.jpg\" width=1000 height=1000/>  <figcaption align = \"center\"> Layer-Cake stratigraphy </figcaption>  </td>\n",
    "<td> <img src=\"data/3.jpg\" width=1000 height=1000 /> <figcaption align = \"center\"> stratigraphic relation arounda reef of similar structure </figcaption> </td>\n",
    "</tr></table>\n"
   ]
  },
  {
   "cell_type": "markdown",
   "id": "98d56098",
   "metadata": {},
   "source": [
    "## Unconformity\n",
    "- a break in sedimentation, where there is erosion of underlying strata\n",
    "     - a gap in time seen in the stratigraphy   \n",
    "     - superposition = rocks below the unconformity are older\n",
    "\n",
    "<table><tr>\n",
    "<td> <img src=\"data/4.jpg\" width=1000 height=1000/>  <figcaption align = \"center\"> Angular unconformity </figcaption>  </td>\n",
    "<td> <img src=\"data/5.jpg\" width=1000 height=1000 /> <figcaption align = \"center\"> Disconformity </figcaption> </td>\n",
    "</tr></table>\n",
    "<img src=\"data/6.jpg\" width=500 height=500 /> <figcaption align = \"center\"> Non-confirmity </figcaption>\n",
    "  ____\n",
    "\n",
    "Deformation and erosion prior to deposition of younger bed"
   ]
  },
  {
   "cell_type": "code",
   "execution_count": 16,
   "id": "9a07a768",
   "metadata": {},
   "outputs": [
    {
     "data": {
      "image/jpeg": "[encoded data removed]",
      "text/html": [
       "\n",
       "        <iframe\n",
       "            width=\"400\"\n",
       "            height=\"300\"\n",
       "            src=\"https://www.youtube.com/embed/y90iJNrOPSQ\"\n",
       "            frameborder=\"0\"\n",
       "            allowfullscreen\n",
       "            \n",
       "        ></iframe>\n",
       "        "
      ],
      "text/plain": [
       "<IPython.lib.display.YouTubeVideo at 0x7f70981ad9a0>"
      ]
     },
     "metadata": {},
     "output_type": "display_data"
    }
   ],
   "source": [
    "from IPython.display import YouTubeVideo\n",
    "video = YouTubeVideo(\"y90iJNrOPSQ\")\n",
    "display(video)\n"
   ]
  },
  {
   "cell_type": "markdown",
   "id": "6d6f33ce",
   "metadata": {},
   "source": [
    "## Unconformity\n",
    "<img src=\"data/7.jpg\" width=500 height=500 />\n"
   ]
  },
  {
   "cell_type": "markdown",
   "id": "e9981324",
   "metadata": {},
   "source": [
    "## Unconformity\n",
    "<img src=\"data/8.jpg\" width=500 height=500 />\n"
   ]
  },
  {
   "cell_type": "markdown",
   "id": "92750677",
   "metadata": {},
   "source": [
    "## Cross-cutting relationships\n",
    "\n",
    "- any rock unit with a boundary that cuts across another must be younger\n",
    "    - relative ages / dating\n",
    "    - commonly seen with reference to igneous intrusions and faults\n",
    "    \n",
    "<img src=\"data/9.jpg\" alt=\"Cross-cutting relationships\" width=500 height=500 />\n"
   ]
  },
  {
   "cell_type": "markdown",
   "id": "2efa3be2",
   "metadata": {},
   "source": [
    "##  Included fragments\n",
    "\n",
    "- any fragments of rock in a sediment must be older than the strata they are now contained within\n",
    "     - pebbles, lithic clasts, even sand grains\n",
    "     \n",
    "<img src=\"data/10.jpg\" alt=\"Included fragments\" width=500 height=500 />\n"
   ]
  },
  {
   "cell_type": "markdown",
   "id": "45e51f6d",
   "metadata": {},
   "source": [
    "##  Younging – way-up indicators\n",
    "\n",
    "- a range of sedimentary features indicate the way up; pointing to the direction of younging in the rocks\n",
    "     - useful if unit has been deformed\n",
    "     \n",
    "<img src=\"data/11.jpg\" width=500 height=500 />\n"
   ]
  },
  {
   "cell_type": "markdown",
   "id": "b71cf0bf",
   "metadata": {},
   "source": [
    "## Sequence stratigraphy\n",
    "\n",
    "- important for specialists (sedimentary geologists) to know\n",
    "   - how sediments change in response to changes in sea level (and other controls)\n",
    "   - e.g. transgression and regression\n",
    "\n",
    "- useful in understanding controls on sediment type and its spatial distribution through time\n",
    "  - predicting distribution, continuity and type of reservoirs, seals, source rocks\n",
    "\n",
    "- More:\n",
    "\n",
    "http://www.sepmstrata.org/page.aspx?&pageid=15&3\n",
    "[![Two](http://img.youtube.com/watch?v=d8-tsz9P5Oo.jpg)](https://youtu.be/d8-tsz9P5Oo)\n"
   ]
  },
  {
   "cell_type": "markdown",
   "id": "0f4ff2f5",
   "metadata": {},
   "source": [
    "## Principal stresses\n",
    "\n",
    "<img src=\"data/12.jpg\" width=500 height=500 />\n"
   ]
  },
  {
   "cell_type": "markdown",
   "id": "38379820",
   "metadata": {},
   "source": [
    "##  Folding – ductile deformation\n",
    "\n",
    "     \n",
    "<img src=\"data/14.jpg\" width=500 height=500 />\n"
   ]
  },
  {
   "cell_type": "markdown",
   "id": "fe42b2ed",
   "metadata": {},
   "source": [
    "## Folding – ductile deformation\n",
    "\n",
    "<table><tr>\n",
    "<td> <img src=\"data/15.jpg\" width=1000 height=1000/>  <figcaption align = \"center\"> uniform stress </figcaption>  </td>\n",
    "<td> <img src=\"data/16.jpg\" width=1000 height=1000 /> <figcaption align = \"center\"> differential stress </figcaption> </td>\n",
    "</tr></table>\n",
    "\n"
   ]
  },
  {
   "cell_type": "markdown",
   "id": "f79a4a06",
   "metadata": {},
   "source": [
    "## Other geometrical aspects of folds\n",
    "\n",
    "<img src=\"data/17.jpg\" width=500 height=500 />\n"
   ]
  },
  {
   "cell_type": "markdown",
   "id": "897eb3a9",
   "metadata": {},
   "source": [
    "## Folding – ductile deformation\n",
    "\n",
    "- compression\n",
    "<img src=\"data/18.jpg\" width=500 height=500 />\n",
    "\n",
    "- demonstration of forces and results…\n"
   ]
  },
  {
   "cell_type": "markdown",
   "id": "3a3d341a",
   "metadata": {},
   "source": [
    "## Examples of folds – multiple scales!\n",
    "<img src=\"data/19.jpg\" width=500 height=500 />\n"
   ]
  },
  {
   "cell_type": "markdown",
   "id": "e5ef7721",
   "metadata": {},
   "source": [
    "## Faulting – brittle deformation\n",
    "<img src=\"data/20.jpg\" width=500 height=500 />\n"
   ]
  },
  {
   "cell_type": "markdown",
   "id": "d38e933c",
   "metadata": {},
   "source": [
    "## Faulting – brittle deformation\n",
    "\n",
    "| Normal fault | reverse fault | Strike-slip fault  |\n",
    "| :- | -: | :-: |\n",
    "| extension | compression | shear\n",
    "| slid down | pushed up | moves sideways\n",
    "\n",
    "<img src=\"data/21.jpg\" width=500 height=500 />\n"
   ]
  },
  {
   "cell_type": "markdown",
   "id": "1ff4598e",
   "metadata": {},
   "source": [
    "## Faulting – brittle deformation\n",
    "\n",
    "<table><tr>\n",
    "<td> <img src=\"data/24.jpg\" width=1000 height=1000/>  <figcaption align = \"center\"> compression </figcaption>  </td>\n",
    "<td> <img src=\"data/25.jpg\" width=1000 height=1000 /> <figcaption align = \"center\"> Extension </figcaption> </td>\n",
    "</tr></table>\n",
    "\n"
   ]
  },
  {
   "cell_type": "markdown",
   "id": "3f380800",
   "metadata": {},
   "source": [
    "## Faulting – brittle deformation\n",
    "\n",
    " <img src=\"data/26.jpg\" width=500 height=500 />"
   ]
  },
  {
   "cell_type": "markdown",
   "id": "78dfc182",
   "metadata": {},
   "source": [
    "## Horst and graben\n",
    "\n",
    " <img src=\"data/27.jpg\" width=500 height=500 />\n",
    " "
   ]
  },
  {
   "cell_type": "markdown",
   "id": "03072e57",
   "metadata": {},
   "source": [
    "## Faulted traps\n",
    "\n",
    " <img src=\"data/28.jpg\" width=500 height=500 />\n"
   ]
  },
  {
   "cell_type": "markdown",
   "id": "8c3e5808",
   "metadata": {},
   "source": [
    "## Examples of faults – multiple scales!\n",
    "\n",
    " <img src=\"data/29.jpg\" width=500 height=500 />\n"
   ]
  },
  {
   "cell_type": "markdown",
   "id": "7f8e9da7",
   "metadata": {},
   "source": [
    "<div class=\"alert alert-block alert-info\">\n",
    "***Relative Geological Ages - quiz*** </div>"
   ]
  },
  {
   "cell_type": "markdown",
   "id": "32232d23",
   "metadata": {},
   "source": [
    "- go to www.menti.com\n",
    "- enter code 8609 0489\n",
    "\n",
    "- For the geological cross-sections, determine the relative ages and sequence of events\n",
    "\n",
    "**remember this is not assessed, it is anonymous.\n",
    "provides an opportunity for you to check initial understanding, and gives me feedback on your understanding, so that I can fill in the gaps**"
   ]
  },
  {
   "cell_type": "markdown",
   "id": "7c7bacd8",
   "metadata": {},
   "source": [
    " <img src=\"data/30.jpg\" width=500 height=500 />\n"
   ]
  },
  {
   "cell_type": "markdown",
   "id": "bf23bcf1",
   "metadata": {},
   "source": [
    "|Order (top = young)|Reason (cuts x, cut by y ?)|\n",
    "|----------|:-------------:|\n",
    "|   \t|   \t|\n",
    "|   \t|   \t|\n",
    "|   \t|   \t|\n",
    "|   \t|   \t|\n",
    "|   \t|   \t|\n",
    "|   \t|   \t|\n",
    "|   \t|   \t|\n",
    "|   \t|   \t|\n",
    "|   \t|   \t|\n",
    "|   1\t|overlain by 2|"
   ]
  },
  {
   "cell_type": "markdown",
   "id": "c786e425",
   "metadata": {},
   "source": [
    " <img src=\"data/30.jpg\" width=500 height=500 />\n"
   ]
  },
  {
   "cell_type": "markdown",
   "id": "aa84cfae",
   "metadata": {},
   "source": [
    "|Order (top = young)|Reason (cuts x, cut by y ?)|\n",
    "|----------|:-------------:|\n",
    "|   \t|   \t|\n",
    "|   \t|   \t|\n",
    "|   \t|   \t|\n",
    "|   \t|   \t|\n",
    "|   \t|   \t|\n",
    "|   \t|   \t|\n",
    "|   \t|   \t|\n",
    "|   \t|   \t|\n",
    "|   \t|   \t|\n",
    "|   C\t|cut by all features|"
   ]
  }
 ],
 "metadata": {
  "kernelspec": {
   "display_name": "Python 3 (ipykernel)",
   "language": "python",
   "name": "python3"
  },
  "language_info": {
   "codemirror_mode": {
    "name": "ipython",
    "version": 3
   },
   "file_extension": ".py",
   "mimetype": "text/x-python",
   "name": "python",
   "nbconvert_exporter": "python",
   "pygments_lexer": "ipython3",
   "version": "3.9.13"
  }
 },
 "nbformat": 4,
 "nbformat_minor": 5
}
